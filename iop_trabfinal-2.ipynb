{
  "nbformat": 4,
  "nbformat_minor": 0,
  "metadata": {
    "colab": {
      "provenance": [],
      "toc_visible": true
    },
    "kernelspec": {
      "name": "python3",
      "display_name": "Python 3"
    },
    "language_info": {
      "name": "python"
    }
  },
  "cells": [
    {
      "cell_type": "markdown",
      "source": [
        "#Intrucciones Archivo\n",
        "\n",
        "Para poder ejecutar los modelos  presentados en este trabajo, es necesario tener **instaladas las siguientes herramientas:**\n",
        "\n",
        "* **Pyomo:** Permite construir y resolver modelos de optimización\n",
        "* **GLPK:** Encontrar la solución óptima de los modelos construidos con Pyomo.\n",
        "\n",
        "### Instalación\n",
        "Para descagar estos, en la terminal\n",
        "\n",
        "```bash\n",
        "pip install pyomo\n",
        "pip install glpk\n",
        "```\n",
        "### Importaciones\n",
        "Asímismo será necesario realizar la siguiente importaciones:\n",
        "\n",
        "```python\n",
        "#pyomo\n",
        "from pyomo.environ import *\n",
        "\n",
        "#grafos\n",
        "import networkx as nx\n",
        "import matplotlib.pyplot as plt\n"
      ],
      "metadata": {
        "id": "ONgp8RYkae8g"
      }
    },
    {
      "cell_type": "code",
      "source": [
        "from pyomo.environ import *\n",
        "import networkx as nx\n",
        "import matplotlib.pyplot as plt"
      ],
      "metadata": {
        "id": "gotz5TFKpoMs"
      },
      "execution_count": null,
      "outputs": []
    },
    {
      "cell_type": "markdown",
      "source": [
        "## Organización Fichero"
      ],
      "metadata": {
        "id": "NnZhj-j0az0M"
      }
    },
    {
      "cell_type": "markdown",
      "source": [
        "**Índice del Fichero**\n",
        "\n",
        "1. **Introducción**: Se presenta una descripción general de los problemas planteados.\n",
        "\n",
        "2. **Optimización de Beneficios de Plantas Renovables**:\n",
        "   - En este apartado se plantea un problema de optimización para maximizar los beneficios generados por plantas solares y eólicas. Se desarrolla su formulación matemática en un modelo primal y se obtiene su solución óptima.\n",
        "   - Se incluye el análisis del primal utilizando el Teorema de la Holgura Complementaria, interpretando las restricciones activas y los precios sombra asociados.\n",
        "   - Además, se realiza un análisis de sensibilidad para estudiar cómo cambian los resultados al modificar los coeficientes de la función objetivo.\n",
        "\n",
        "3. **Dual**:\n",
        "   - Se formula y resuelve el modelo dual del problema planteado. Este modelo permite interpretar los valores de los precios sombra.\n",
        "\n",
        "4. **Comercialización y Distribución de la Energía**:\n",
        "   - En este apartado se plantea una variante del problema del modelo de transporte, enfocada en la distribución de energía renovable desde plantas de generación hacia tres empresas españolas.\n",
        "."
      ],
      "metadata": {
        "id": "h-UTSTpck9mi"
      }
    },
    {
      "cell_type": "markdown",
      "source": [
        "##Introducción"
      ],
      "metadata": {
        "id": "higLgfTkln7a"
      }
    },
    {
      "cell_type": "markdown",
      "source": [
        "En este documento, se abordan dos problemas clásicos de optimización en el ámbito de la programación lineal:\n",
        "\n",
        "1.\t**Maximización de Beneficios**: Este enfoque busca determinar la combinación óptima de variables que maximicen el beneficio total de una empresa, considerando las limitaciones de recursos disponibles.\n",
        "\n",
        "2.\t**Problema del Transporte**: Este problema se centra en minimizar los costes asociados con la distribución de productos desde múltiples orígenes hasta diversos destinos, satisfaciendo las demandas y ofertas establecidas. La formulación lineal del problema de transporte clásico fue descrita por Frank Lauren Hitchcock en 1941 en su artículo “The Distribution of a Product from Several Sources to Numerous Localities”. De manera independiente, Tjalling Charles Koopmans también desarrolló avances en los problemas del transporte durante los años 1941 y 1942.\n"
      ],
      "metadata": {
        "id": "79J7nPzroHCa"
      }
    },
    {
      "cell_type": "markdown",
      "source": [
        "## Optmización de Beneficios Plantas Renovables"
      ],
      "metadata": {
        "id": "f_AHqgsIdWqR"
      }
    },
    {
      "cell_type": "markdown",
      "source": [
        "En el transcurso de los últimos años, España ha apostado cada vez más por las energías renovables. Por esta razón, empresas referentes en este campo, como Iberdrola, han decidido comprometerse con este cambio y construir nuevos parques eólicos y solares en toda la península.\n",
        "\n",
        "Para llevar a cabo este ambicioso proyecto, Iberdrola ha decidido construir **seis parques de energía renovable**: tres solares y tres eólicos. No obstante, este plan debe llevarse a cabo dentro de un contexto de recursos limitados, que se explicarán a continuación, con la finalidad de maximizar las ventajas que estos parques puedan producir.\n",
        "\n",
        "## Datos Problema\n",
        "\n",
        "Para alcanzar este objetivo, Iberdrola debe determinar cuánta **potencia (en MW) instalar en cada parque** para **maximizar los beneficios totales**. Sin embargo, este proyecto debe ajustarse a una serie de restricciones clave que limitan los recursos disponibles:\n",
        "\n",
        "\n",
        "1. **Presupuesto para materiales**: Iberdrola dispone de un presupuesto de 860 millones de euros para la compra de materiales necesarios para la construcción de los parques.  \n",
        "2. **Horas-hombre disponibles**: Se han contratado un equipo de ingenieros  con una disponibilidad máxima de 177,000 horas para construir los parques.\n",
        "3. **Superficie total disponible**: Se cuenta con un total de 1,820 hectáreas de terreno .\n",
        "4. **Presupuesto para impuestos municipales**: Iberdrola ha destinado un total de 15,000 miles de euros para cubrir los impuestos municipales de las ciudades donde se instalarán estos parques.\n",
        "\n",
        "Para decidir qué potencia en cada parque, es importante considerar sus características únicas en cuanto a costes, recursos necesarios y beneficios que generan. A continuación, se describen las carácterísticas de cada uno de ellos:\n",
        "\n",
        "Beneficio (M€/MW) | Coste Material (M€/MW) | Horas-Hombre (horas/MW) | Superficie (Ha/MW) | Impuestos (miles €/MW)\n",
        "------------------ | --------------------- | ----------------------- | ------------------- | ---------------------\n",
        "4.8               | 5                     | 1200                   | 9.7                 | 45\n",
        "4.5               | 3                     | 1050                   | 10.5                | 70\n",
        "4.6               | 7                     | 1130                   | 8.2                 | 100\n",
        "4.3               | 4                     | 950                    | 10.7                | 45\n",
        "4.7               | 6                     | 1025                   | 11                  | 60\n",
        "4.9               | 5                     | 1150                   | 11.3                | 75\n",
        "\n"
      ],
      "metadata": {
        "id": "maKscu3Ri10q"
      }
    },
    {
      "cell_type": "markdown",
      "source": [
        "## Formulación Matemática"
      ],
      "metadata": {
        "id": "_Yw-kygomw2j"
      }
    },
    {
      "cell_type": "markdown",
      "source": [
        "Para incorporar todas las restricciones y objetivos mencionados, se plantea el siguiente problema de programación lineal.\n",
        "\n",
        " **Variables de Decisión**\n",
        "\n",
        "-$ x_1 $: Potencia instalada en el parque solar 1\n",
        "\n",
        "-$x_2 $: Potencia instalada en el parque solar 2\n",
        "\n",
        "-$x_3 $: Potencia instalada en el parque solar 3\n",
        "\n",
        "-$x_4 $: Potencia instalada en el parque eólico 1.\n",
        "\n",
        "-$ x_5$: Potencia instalada en el parque eólico 2.\n",
        "\n",
        "-$x_6$: Potencia instaladaen el parque eólico 3.\n",
        "\n",
        " **Función Objetivo**\n",
        "\n",
        "El objetivo es **maximizar el beneficio tota(€)** generado por los parques:\n",
        "\n",
        "$$\n",
        "\\text{Maximizar: } Z = 4.8x_1 + 4.5x_2 + 4.6x_3 + 4.3x_4 + 4.7x_5 + 4.9x_6\n",
        "$$\n",
        "\n",
        " **Restricciones**\n",
        "1. **Presupuesto para materiales:**\n",
        "   \n",
        "   $$\n",
        "   5x_1 + 3x_2 + 7x_3 + 4x_4 + 6x_5 + 5x_6 \\leq 860\n",
        "   $$\n",
        "\n",
        "2. **Horas-hombre disponibles:**\n",
        "   $$\n",
        "   1200x_1 + 1050x_2 + 1130x_3 + 950x_4 + 1025x_5 + 1150x_6 \\leq 177000\n",
        "   $$\n",
        "\n",
        "3. **Disponibilidad de hectáreas:**\n",
        "   $$\n",
        "   9.7x_1 + 10.5x_2 + 8.2x_3 + 10.7x_4 + 11x_5 + 11.3x_6 \\leq 1820\n",
        "   $$\n",
        "\n",
        "4. **Presupuesto para impuestos:**\n",
        "   $$\n",
        "   45x_1 + 70x_2 + 100x_3 + 45x_4 + 60x_5 + 75x_6 \\leq 15000\n",
        "   $$\n",
        "\n",
        "5. **No negatividad:**\n",
        "  $$\n",
        "   x_1, x_2, x_3, x_4, x_5, x_6 \\geq 0\n",
        "   $$\n",
        "\n"
      ],
      "metadata": {
        "id": "oYonnml_nTIT"
      }
    },
    {
      "cell_type": "code",
      "source": [
        "\n",
        "modelo1 = ConcreteModel()\n",
        "\n",
        "#Variables decisión\n",
        "modelo1.x1 = Var(within=NonNegativeReals)  # Parque Solar 1\n",
        "modelo1.x2 = Var(within=NonNegativeReals)  # Parque Solar 2\n",
        "modelo1.x3 = Var(within=NonNegativeReals)  # Parque Solar 3\n",
        "modelo1.x4 = Var(within=NonNegativeReals)  # Parque Eólico 1\n",
        "modelo1.x5 = Var(within=NonNegativeReals)  # Parque Eólico 2\n",
        "modelo1.x6 = Var(within=NonNegativeReals)  # Parque Eólico 3\n",
        "\n",
        "#Función objetivo\n",
        "modelo1.objetivo = Objective(expr=4.8 * modelo1.x1 + 4.5 * modelo1.x2 + 4.6 * modelo1.x3 + 4.3 * modelo1.x4 + 4.7 * modelo1.x5 + 4.9 * modelo1.x6,sense=maximize)\n",
        "\n",
        "\n",
        "#1.Materiales\n",
        "modelo1.materiales = Constraint(expr=5 * modelo1.x1 + 3 * modelo1.x2 + 7 * modelo1.x3 +4 * modelo1.x4 + 6 * modelo1.x5 + 5 * modelo1.x6 <= 750)\n",
        "\n",
        "#2.Horas-hombre\n",
        "modelo1.horas_hombre = Constraint(expr=1200 * modelo1.x1 + 1050 * modelo1.x2 + 1130 * modelo1.x3 + 950 * modelo1.x4 + 1025 * modelo1.x5 + 1150 * modelo1.x6 <= 150000)\n",
        "\n",
        "#3.Hectareas\n",
        "modelo1.terreno = Constraint(\n",
        "    expr=9.7 * modelo1.x1 + 10.5 * modelo1.x2 + 8.2 * modelo1.x3 +\n",
        "         10.7 * modelo1.x4 + 11 * modelo1.x5 + 11.3 * modelo1.x6 <= 1350\n",
        ")\n",
        "\n",
        "#4.Impuestos\n",
        "modelo1.impuestos = Constraint(expr=45 * modelo1.x1 + 70 * modelo1.x2 + 100 * modelo1.x3 + 45 * modelo1.x4 + 60 * modelo1.x5 + 75 * modelo1.x6 <= 10000)\n",
        "\n",
        "\n",
        "solver = SolverFactory('glpk')\n",
        "resultados = solver.solve(modelo1)\n",
        "\n",
        "beneficio_total = modelo1.objetivo() #Millones €\n",
        "\n",
        "# potencia parque\n",
        "capacidades_solares = {\n",
        "    \"Parque Solar 1\": modelo1.x1(),\n",
        "    \"Parque Solar 2\": modelo1.x2(),\n",
        "    \"Parque Solar 3\": modelo1.x3(),\n",
        "}\n",
        "\n",
        "capacidades_eolicas = {\n",
        "    \"Parque Eólico 1\": modelo1.x4(),\n",
        "    \"Parque Eólico 2\": modelo1.x5(),\n",
        "    \"Parque Eólico 3\": modelo1.x6()\n",
        "}\n",
        "\n",
        "print(f\"Beneficio total: {beneficio_total:.2f} millones de euros\")\n",
        "print(\"\\nPotencias instaladas en parques solares (MW):\")\n",
        "for parque, capacidad in capacidades_solares.items():\n",
        "    print(f\"  {parque}: {capacidad:.3f} MW\")\n",
        "\n",
        "print(\"\\nPotencias instaladas en parques eólicos (MW):\")\n",
        "for parque, capacidad in capacidades_eolicas.items():\n",
        "    print(f\"  {parque}: {capacidad:.3f} MW\")"
      ],
      "metadata": {
        "id": "kjjIlGpepq_V"
      },
      "execution_count": null,
      "outputs": []
    },
    {
      "cell_type": "markdown",
      "source": [
        "\n",
        "## Resultados Primal\n",
        "\n",
        "Para maximizar el beneficio obtenido por Iberdrola, las potencias que se deberían instalar en los parques son:\n",
        "## Potencias Instaladas\n",
        "\n",
        "Parques Solares\n",
        "- Parque Solar 1: 20.564 MW\n",
        "- Parque Solar 2: 32.746 MW\n",
        "- Parque Solar 3: 43.100 MW\n",
        "\n",
        "\n",
        "Parques Eólicos\n",
        "- Parque Eólico 1: 0.000 MW\n",
        "- Parque Eólico 2: 41.208 MW\n",
        "- Parque Eólico 3: 0.000 MW\n",
        "\n",
        "## Beneficio Total\n",
        "- 637.996 millones de euros\n",
        "\n"
      ],
      "metadata": {
        "id": "aXexwnkJrVl9"
      }
    },
    {
      "cell_type": "markdown",
      "source": [
        "## Análisis del Primal-Teorema de la Holgura Complementaria\n",
        "\n",
        "Antes de plantear el problema dual, hemos estudiado las restricciones del modelo primal. Al sustituir las potencias instaladas obtenidas en las restricciones del modelo , observamos que todas las restricciones se verifican prácticamente con igualdad $(Ax - b \\approx 0)$, lo que significa que todos los  recursos se están consumiendo completamente o casi completamente, considerando el redondeo numérico.\n",
        "\n",
        "De acuerdo con el **teorema de la holgura complementaria**, cuando una restricción está activa $(Ax - b = 0)$, el precio sombra asociado a dicha restricción en el modelo dual será distinto de cero. Esto implica que cualquier aumento en la disponibilidad de los  recursos asociados a esas restricciones tendrá un impacto positivo en nuestra función objetivo, es decir, aumentará el beneficio total.\n",
        "\n",
        "En nuestro caso, como los recursos **Materiales, horas-hombre, superficie e impuestos** se están consumiendo completamente, disponer de una unidad más de cualquiera de estos recursos tendrá un impacto positivo en la función objetivo. Este impacto será estudiado a través de los **precios sombra** que se calcularán al plantear y resolver el problema dual.\n",
        "\n"
      ],
      "metadata": {
        "id": "fSedW0vq8mlX"
      }
    },
    {
      "cell_type": "markdown",
      "source": [
        "## Análisis de sensibilidad coeficientes de la f.objetivo"
      ],
      "metadata": {
        "id": "5YKRo1QTFrnD"
      }
    },
    {
      "cell_type": "markdown",
      "source": [
        "Ahora, Iberdrola desea realizar un análisis de sensibilidad para ver  cómo variaría el beneficio total si se modificasen los beneficios por megavatio generado en algunas de sus plantas.\n",
        "\n",
        "Para este análisis, se centrará en ajustar los beneficios asociados a dos plantas específicas:\n",
        "\n",
        "-Planta 1 $x_1$: Representa el beneficio generado por cada megavatio en el Parque Solar 1.\n",
        "\n",
        "-Planta 4 $x_4$: Beneficio por megavatio en el Parque Eólico 1.\n",
        "\n"
      ],
      "metadata": {
        "id": "CpwnkWbXZQtu"
      }
    },
    {
      "cell_type": "markdown",
      "source": [
        "**Análisis de Sensibilidad del coeficiente x1**"
      ],
      "metadata": {
        "id": "xarRSyY0ds1p"
      }
    },
    {
      "cell_type": "code",
      "source": [
        "# modelo\n",
        "model = ConcreteModel()\n",
        "\n",
        "\n",
        "model.x1 = Var(within=NonNegativeReals)\n",
        "model.x2 = Var(within=NonNegativeReals)\n",
        "model.x3 = Var(within=NonNegativeReals)\n",
        "model.x4 = Var(within=NonNegativeReals)\n",
        "model.x5 = Var(within=NonNegativeReals)\n",
        "model.x6 = Var(within=NonNegativeReals)\n",
        "\n",
        "#f.objetivo\n",
        "model.obj = Objective(\n",
        "    expr=4.8 * model.x1 + 4.5 * model.x2 + 4.6 * model.x3 + 4.3 * model.x4 + 4.7 * model.x5 + 4.9 * model.x6,sense=maximize\n",
        ")\n",
        "\n",
        "#restricciones\n",
        "model.materiales = Constraint(expr=5 * model.x1 + 3 * model.x2 + 7 * model.x3 +4 * model.x4 + 6 * model.x5 + 5 * model.x6 <= 750)\n",
        "model.horas_hombre = Constraint(expr=1200 * model.x1 + 1050 * model.x2 + 1130 * model.x3 +950 * model.x4 + 1025 * model.x5 + 1150 * model.x6 <= 150000)\n",
        "model.superficie = Constraint(expr=9.7 * model.x1 + 10.5 * model.x2 + 8.2 * model.x3 +10.7 * model.x4 + 11 * model.x5 + 11.3 * model.x6 <= 1350)\n",
        "model.impuestos = Constraint(expr=45 * model.x1 + 70 * model.x2 + 100 * model.x3 +45 * model.x4 + 60 * model.x5 + 75 * model.x6 <= 10000)\n",
        "\n",
        "\n",
        "solver = SolverFactory('glpk')\n",
        "solver.solve(model)\n",
        "\n",
        "\n",
        "#Análisis de sensibilidad sobre el beneficio de x1 en la función objetivo\n",
        "coef_range = [4.7 + i * 0.01 for i in range(18)]  #Cambiar el coeficiente de 4.0 a 5.5 de 0.1 a 0.1\n",
        "sens_results = []\n",
        "\n",
        "for coef_x1 in coef_range:\n",
        "    #cambiar coeficiente x1\n",
        "    model.obj.set_value(coef_x1 * model.x1 + 4.5 * model.x2 + 4.6 * model.x3 + 4.3 * model.x4 + 4.7 * model.x5 + 4.9 * model.x6 )\n",
        "\n",
        "    #modelo con coeficiente x1\n",
        "    solver.solve(model)\n",
        "\n",
        "\n",
        "    sens_results.append({\n",
        "        'coef_x1': round(coef_x1, 3),\n",
        "        'obj_value': round(model.obj(), 3),\n",
        "    })\n",
        "\n",
        "#resultados\n",
        "print(\"\\nAnálisis de sensibilidad en el coeficiente de x1 en la función objetivo:\")\n",
        "for result in sens_results:\n",
        "    print(f\"Coeficiente de x1: {result['coef_x1']}, Valor objetivo: {result['obj_value']}\")"
      ],
      "metadata": {
        "id": "RHhj0m8Idr4-"
      },
      "execution_count": null,
      "outputs": []
    },
    {
      "cell_type": "markdown",
      "source": [
        "**Análisis de Sensibilidad del coeficiente x4**"
      ],
      "metadata": {
        "id": "MKizw1ekd2r0"
      }
    },
    {
      "cell_type": "code",
      "source": [
        "#Análisis de sensibilidad sobre el beneficio de x4 en la función objetivo\n",
        "coef_range_x4 = [4.2 + i * 0.01 for i in range(18)]  # Cambiar el coeficiente entre 4.0 a 5.5 de 0.1 en 0.1\n",
        "sens_results_x4 = []\n",
        "\n",
        "for coef_x4 in coef_range_x4:\n",
        "    #cambiar el coeficiente x2\n",
        "    model.obj.set_value(\n",
        "        4.8 * model.x1 + 4.5 * model.x2 + 4.6 * model.x3 +\n",
        "        coef_x4 * model.x4 + 4.7 * model.x5 + 4.9 * model.x6\n",
        "    )\n",
        "\n",
        "    #modelo cambaiando x2\n",
        "    solver.solve(model)\n",
        "\n",
        "    sens_results_x4.append({\n",
        "        'coef_x4': round(coef_x4, 3),\n",
        "        'obj_value': round(model.obj(), 3),\n",
        "    })\n",
        "\n",
        "# Resultados\n",
        "print(\"\\nAnálisis de sensibilidad en el coeficiente de x4 en la función objetivo:\")\n",
        "for result in sens_results_x4:\n",
        "    print(f\"Coeficiente de x4: {result['coef_x4']}, Valor objetivo: {result['obj_value']}\")"
      ],
      "metadata": {
        "id": "MVU4wyBBeatR"
      },
      "execution_count": null,
      "outputs": []
    },
    {
      "cell_type": "markdown",
      "source": [
        "\n",
        "**Análisis de sensibilidad de \\(x_1\\) y \\(x_4\\)**\n",
        "\n",
        "*Coeficiente $x_1$(Millones de euros por MW en el Parque Solar 1):*\n",
        "- El beneficio total aumenta linealmente con $x_1$, creciendo aproximadamente **0.206 millones de euros** por cada incremento de $0.01$ en este coeficiente.\n",
        "\n",
        "\n",
        "*Coeficiente $x_4$ (Millones de euros por MW en el Parque Eólico 1):*\n",
        "- Para $x_4 \\leq 4.32$ el beneficio total permanece constante $Z = 637.996$ millones de euros.\n",
        "- A partir de $x_4 > 4.32$, el beneficio total comienza a aumentar significativamente,  incremento notable de **0.271 millones de euros** al pasar de \\(4.32\\) a \\(4.33\\)."
      ],
      "metadata": {
        "id": "jIEdJN7ti8Qu"
      }
    },
    {
      "cell_type": "markdown",
      "source": [
        "## Dual"
      ],
      "metadata": {
        "id": "y3SDKMl3ufWP"
      }
    },
    {
      "cell_type": "markdown",
      "source": [
        "Una vez calculadas las potencias que Iberdrola debería instalar en cada parque.La empresa se plantea ahora cómo podría maximizar aún más el beneficio obtenido.\n",
        "\n",
        "Así pues, la compañía se da cuenta de que al aumentar la disponibilidad de ciertos recursos clave, como horas-hombre, hectáreas o presupuestos, el beneficio también se incrementa.\n",
        "\n",
        "Para estudiar cómo este incremento en los recursos disponibles afecta a los beneficios generados por los parques, se plantea el modelo dual, que permite evaluar el impacto de añadir unidades adicionales de cada recurso."
      ],
      "metadata": {
        "id": "gJ8CrkCNCcuB"
      }
    },
    {
      "cell_type": "markdown",
      "source": [
        "### Formulación matemática"
      ],
      "metadata": {
        "id": "Xq-vm0G8BLV6"
      }
    },
    {
      "cell_type": "markdown",
      "source": [
        "\n",
        " **Variables Duales**\n",
        "\n",
        "- $ y_1 $: Precio sombra asociado al coste de prespuesto para materiales.\n",
        "- $ y_2 $: Precio sombra asociado a las  horas-hombre.\n",
        "- $y_3 $: Precio sombra asociado al número de hectáreas disponibles.\n",
        "- $ y_4 $: Precio sombra asociado al presupuesto para impuestos.\n",
        "\n",
        " **Función Objetivo**\n",
        "\n",
        "$$\n",
        "\\text{Minimizar: } Z = 750y_1 + 150000y_2 + 1350y_3 + 10000y_4\n",
        "$$\n",
        "\n",
        "\n",
        " **Restricciones**\n",
        "\n",
        "\n",
        "1. Para el **Parque Solar 1**:\n",
        "\n",
        "   $$\n",
        "   5y_1 + 1200y_2 + 9.7y_3 + 45y_4 \\geq 4.8\n",
        "   $$\n",
        "\n",
        "2. Para el **Parque Solar 2**:\n",
        "   $$\n",
        "   3y_1 + 1050y_2 + 10.5y_3 + 70y_4 \\geq 4.5\n",
        "   $$\n",
        "\n",
        "3. Para el **Parque Solar 3**:\n",
        "   $$\n",
        "   7y_1 + 1130y_2 + 8.2y_3 + 100y_4 \\geq 4.6\n",
        "   $$\n",
        "\n",
        "4. Para el **Parque Eólico 1**:\n",
        "   $$\n",
        "   4y_1 + 950y_2 + 10.7y_3 + 45y_4 \\geq 4.3\n",
        "   $$\n",
        "\n",
        "5. Para el **Parque Eólico 2**:\n",
        "   $$\n",
        "   6y_1 + 1025y_2 + 11y_3 + 60y_4 \\geq 4.7\n",
        "   $$\n",
        "\n",
        "6. Para el **Parque Eólico 3**:\n",
        "   $$\n",
        "   5y_1 + 1150y_2 + 11.3y_3 + 75y_4 \\geq 4.9\n",
        "   $$"
      ],
      "metadata": {
        "id": "TD_DH09TEsSH"
      }
    },
    {
      "cell_type": "code",
      "source": [
        "\n",
        "dual_model = ConcreteModel()\n",
        "\n",
        "\n",
        "dual_model.y1 = Var(within=NonNegativeReals)\n",
        "dual_model.y2 = Var(within=NonNegativeReals)\n",
        "dual_model.y3 = Var(within=NonNegativeReals)\n",
        "dual_model.y4 = Var(within=NonNegativeReals)\n",
        "\n",
        "#F.objetivo\n",
        "dual_model.objective = Objective(expr=750 * dual_model.y1 + 150000 * dual_model.y2 + 1350 * dual_model.y3 + 10000 * dual_model.y4,sense=minimize)\n",
        "\n",
        "# Restricciones\n",
        "dual_model.c1 = Constraint(expr=5 * dual_model.y1 + 1200 * dual_model.y2 + 9.7 * dual_model.y3 + 45 * dual_model.y4 >= 4.8)\n",
        "dual_model.c2 = Constraint(expr=3 * dual_model.y1 + 1050 * dual_model.y2 + 10.5 * dual_model.y3 + 70 * dual_model.y4 >= 4.5)\n",
        "dual_model.c3 = Constraint(expr=7 * dual_model.y1 + 1130 * dual_model.y2 + 8.2 * dual_model.y3 + 100 * dual_model.y4 >= 4.6)\n",
        "dual_model.c4 = Constraint(expr=4 * dual_model.y1 + 950 * dual_model.y2 + 10.7 * dual_model.y3 + 45 * dual_model.y4 >= 4.3)\n",
        "dual_model.c5 = Constraint(expr=6 * dual_model.y1 + 1025 * dual_model.y2 + 11 * dual_model.y3 + 60 * dual_model.y4 >= 4.7)\n",
        "dual_model.c6 = Constraint(expr=5 * dual_model.y1 + 1150 * dual_model.y2 + 11.3 * dual_model.y3 + 75 * dual_model.y4 >= 4.9)\n",
        "\n",
        "\n",
        "solver = SolverFactory('glpk')\n",
        "dual_results = solver.solve(dual_model)\n",
        "\n",
        "\n",
        "\n",
        "total_cost = dual_model.objective()\n",
        "\n",
        "# Print dual variables (shadow prices)\n",
        "dual_values = {\n",
        "    \"Materiales (y1)\": dual_model.y1(),\n",
        "    \"Horas-hombre (y2)\": dual_model.y2(),\n",
        "    \"Hectáreas (y3)\": dual_model.y3(),\n",
        "    \"Impuestos (y4)\": dual_model.y4()\n",
        "}\n",
        "\n",
        "\n",
        "print(f\"Costo total de recursos: {total_cost:.3f} millones de euros\")\n",
        "print(\"\\nPrecios sombra de los recursos:\")\n",
        "for resource, value in dual_values.items():\n",
        "    print(f\"  {resource}: {value:.3f}\")"
      ],
      "metadata": {
        "id": "qvE2PWA9Amjz"
      },
      "execution_count": null,
      "outputs": []
    },
    {
      "cell_type": "markdown",
      "source": [
        "### Análisis Precios Sombra"
      ],
      "metadata": {
        "id": "cDbs_QBrXIeA"
      }
    },
    {
      "cell_type": "markdown",
      "source": [
        " **Precios sombra**\n",
        "\n",
        "1. **Presupuesto para materiales (Precio sombra = 0.063)**  \n",
        "   Incrementar el presupuesto para materiales en 1 millón de euros aumentaría el beneficio total en **0.063 millones de euros (63,000 euros)**. Este recurso es limitante y valioso para optimizar los beneficios.\n",
        "\n",
        "2. **Horas-hombre disponibles (Precio sombra = 0.002)**  \n",
        "   Incrementar las horas-hombre disponibles en 1,000 horas generaría un aumento en el beneficio de **0.002 millones de euros (2,000 euros)**. Aunque positivo, su impacto es menor en comparación con otros recursos.\n",
        "\n",
        "3. **Disponibilidad de hectáreas (Precio sombra = 0.168)**  \n",
        "   Incrementar el terreno disponible en 1 ha aumentaría el beneficio en **0.168 millones de euros (168,000 euros)**. Es el recurso con mayor impacto en los beneficios.\n",
        "\n",
        "4. **Presupuesto para impuestos (Precio sombra = 0.002)**  \n",
        "   Incrementar el presupuesto para impuestos en 1,000 euros aumentaría el beneficio total en **0.002 millones de euros (2,000 euros)**."
      ],
      "metadata": {
        "id": "_SQQgG-PXMaE"
      }
    },
    {
      "cell_type": "markdown",
      "source": [
        "## Comercialización y Distribucción de la Energía"
      ],
      "metadata": {
        "id": "krF8CDHWUwvI"
      }
    },
    {
      "cell_type": "markdown",
      "source": [
        "Después de haber optimizado los beneficios de la producción en sus parques eólicos y solares, Iberdrola da un paso más y decide colaborar con una comercializadora para garantizar que la distrubucción de la energia generada  a tres grandes empresas españolas: **Mercadona**, **Amazon** y **Telefónica**.\n",
        "\n",
        "Comprometidas con la sostenibilidad, estas compañías han exigido que el 100% de la energía que consumen provenga de fuentes renovables. Para cumplir con este objetivo, la comercializadora ha firmado un contrato con Iberdrola, confiando en dos de sus principales fuentes de generación sostenible: un **Parque Eólico** y una **Planta Solar**.\n",
        "\n",
        "\n",
        "Sin embargo, gestionar la  distrubucción de la energía renovable no resulta una tarea fácil. Las condiciones climatológicas son impredecibles, y la comercializadora debe asegurarse de que la demanda de los clientes se cubra en todo momento.\n",
        "\n",
        "Para ello, la comercializadora ha diseñado un modelo basado en tres pilares fundamentales:\n",
        "\n",
        "1. **Exceso de capacidad**: Asegurar que la producción siempre sea mayor a la demanda esperada, evitando faltantes.\n",
        "2. **Almacenamiento**: Conservar los excedentes de producción para cubrir períodos de menor generación.\n",
        "3. **Venta estratégica**: Maximizar los beneficios al vender los excedentes de energía a otros clientes.\n",
        "\n",
        "\n",
        "El objetivo principal de la comercializadora es **minimizar los costes asociados al transporte, almacenamiento y suministro**, asegurando al mismo tiempo que las demandas de las empresas se cumplan al 100%.\n"
      ],
      "metadata": {
        "id": "ZhMpFQUwWzJq"
      }
    },
    {
      "cell_type": "markdown",
      "source": [
        "## Datos Problema"
      ],
      "metadata": {
        "id": "HxZrULmdstVQ"
      }
    },
    {
      "cell_type": "markdown",
      "source": [
        "Para abordar este problema de distribución energética, se han recopilado los siguientes datos recogidos en las tablas mostradas a continuación.\n",
        "\n",
        "La siguiente tabla muestra la energía contratada por la comercializadora a Iberdrola y el consumo de cada empresa por cuatrimeste (**MWh**):\n",
        "\n",
        "| **Período** | **Producción (Parque Eólico)** | **Producción (Planta Solar)** | **Demanda Mercadona** | **Demanda Amazon** | **Demanda Telefónica** |\n",
        "|-------------|--------------------------------|-------------------------------|------------------------|--------------------|-------------------------|\n",
        "| 1           | 15                             | 25                            | 10                     | 5                  | 20                      |\n",
        "| 2           | 15                             | 25                            | 10                     | 10                 | 10                      |\n",
        "| 3           | 10                             | 20                            | 10                     | 15                 | 10                      |\n"
      ],
      "metadata": {
        "id": "HCB9Wa5isfl5"
      }
    },
    {
      "cell_type": "markdown",
      "source": [
        "*¿Qué sucede en el tercer cuatrimestre ?*\n",
        "\n",
        "En el último cuatrimestre del año, debido a las condiciones climáticas, **la oferta de energía es inferior a la demanda**. En este período, el **Parque Eólico** genera 10 MWh y la **Planta Solar** produce 20 MWh, lo que suma un total de 30 MWh. Sin embargo, la demanda total de las empresas asciende a **35 MWh**, dejando un déficit de 5 MWh que no podría cubrirse solo con la producción actual.\n",
        "\n",
        "Gracias a la estrategia de almacenamiento ideada por la empresa .Durante el segundo cuatrimestre, donde las condiciones climáticas favorecieron una **oferta superior a la demanda**, la empresa tomó la decisión estratégica de almacenar **5 MWh de excedente** permitiendo ahora satisfacer la demanda en el tercer cuatrimestre"
      ],
      "metadata": {
        "id": "wZ0FgxwJs6H_"
      }
    },
    {
      "cell_type": "markdown",
      "source": [
        "**Costes de distribución**\n",
        "\n",
        "El precio de distribuicción de energía desde las dos plantas a las empresas que debe abonar la comercializadora a Iberdrola esta contemplado en la siguiente tabla  (**€/MWh**):\n",
        "\n",
        "| **Origen / Empresa** | **Mercadona** | **Amazon** | **Telefónica** |\n",
        "|-----------------------|---------------|------------|----------------|\n",
        "| **Desde Parque Eólico** | 7             | 9          | 12             |\n",
        "| **Desde Planta Solar**  | 10            | 11         | 16             |"
      ],
      "metadata": {
        "id": "Czs7ji0wtCQK"
      }
    },
    {
      "cell_type": "markdown",
      "source": [
        "**Costes Almacenamiento y Venta**\n",
        "\n",
        "Por otro lado los costes fijos de almacenamiento y venta en la dos plantas son los siguientes:\n",
        "- **Almacenamiento**:\n",
        "  - **Parque Eólico**: 3 €/MWh por cuatrimestre.\n",
        "  - **Planta Solar**: 2 €/MWh por cuatrimestre.\n",
        "  - La energía almacenada **no genera costos adicionales al ser suministrada**.\n",
        "\n",
        "- **Venta directa a clientes externos**:\n",
        "  - **Parque Eólico**: Genera un beneficio de 5 €/MWh.\n",
        "  - **Planta Solar**: Genera un beneficio de 8 €/MWh.\n"
      ],
      "metadata": {
        "id": "vJq8HIUXtO8f"
      }
    },
    {
      "cell_type": "markdown",
      "source": [
        "## Representación gráfica del problema\n",
        "\n",
        "En este apartado, hemos representado con un grafo las conexiones entre el **Parque Eólico** y  la **Planta Solar** y las tres empresas a las que se distribuye la energía (**Mercadona**, **Amazon**, y **Telefónica**)."
      ],
      "metadata": {
        "id": "P26HYWR8tiEf"
      }
    },
    {
      "cell_type": "code",
      "source": [
        "import networkx as nx\n",
        "import matplotlib.pyplot as plt"
      ],
      "metadata": {
        "id": "aUGeoudPuHw9"
      },
      "execution_count": null,
      "outputs": []
    },
    {
      "cell_type": "code",
      "source": [
        "\n",
        "G = nx.DiGraph()\n",
        "\n",
        "nodos = {\n",
        "    \"P.E\": (0, 6),\n",
        "    \"P.S\": (6, 6),\n",
        "    \"Mercadona\": (-2, 2),\n",
        "    \"Amazon\": (2, 3),\n",
        "    \"Telefónica\": (8, 2),\n",
        "}\n",
        "\n",
        "G.add_nodes_from(nodos.keys())\n",
        "\n",
        "# Aristas\n",
        "G.add_edge(\"P.E\", \"Mercadona\", weight=7)  #P.E -> Mercadona\n",
        "G.add_edge(\"P.E\", \"Amazon\", weight=9)    #P.E ->Amazon\n",
        "G.add_edge(\"P.E\", \"Telefónica\", weight=12)  #P.E -> Telefónica\n",
        "G.add_edge(\"P.S\", \"Mercadona\", weight=10)  #P.S -> Mercadona\n",
        "G.add_edge(\"P.S\", \"Amazon\", weight=11)    #P.S -> Amazon\n",
        "G.add_edge(\"P.S\", \"Telefónica\", weight=16)  #P.S ->Telefónica\n",
        "\n",
        "\n",
        "plt.figure(figsize=(10, 6))\n",
        "\n",
        "\n",
        "node_colors = [\n",
        "    \"darkblue\" if nodo in [\"P.E\", \"P.S\"] else \"red\"for nodo in nodos.keys()\n",
        "]\n",
        "\n",
        "\n",
        "nx.draw(G,pos=nodos,with_labels=True,node_size=2000,node_color=node_colors,font_size=10,edgecolors=\"black\",font_color=\"white\",arrowsize=15,)\n",
        "\n",
        "# coste en las aristas\n",
        "edge_labels = {(u, v): f\"{d['weight']}€\" for u, v, d in G.edges(data=True)}\n",
        "nx.draw_networkx_edge_labels(G, pos=nodos, edge_labels=edge_labels, font_size=9)\n",
        "\n",
        "#\n",
        "plt.title(\"Grafo de Distribución Energía de las Plantas \", fontsize=14)\n",
        "plt.show()"
      ],
      "metadata": {
        "colab": {
          "base_uri": "https://localhost:8080/",
          "height": 661
        },
        "id": "vE5JzB-YuNln",
        "outputId": "931af63e-4792-42d9-ed71-4282ad753a06"
      },
      "execution_count": null,
      "outputs": [
        {
          "output_type": "display_data",
          "data": {
            "text/plain": [
              "<Figure size 1000x600 with 1 Axes>"
            ],
            "image/png": "[encoded data removed]"
          },
          "metadata": {}
        }
      ]
    },
    {
      "cell_type": "markdown",
      "source": [
        "## Formulación Matemática"
      ],
      "metadata": {
        "id": "5vnxEiUDHNNm"
      }
    },
    {
      "cell_type": "markdown",
      "source": [
        "**Definición de las variables**\n",
        "\n",
        "- $ X_{ijt} $: Cantidad de energía suministrada desde la planta $ i $ a la empresa $ j $ en el período $ t $.\n",
        "  - **Ejemplo**: $ X_{121} $ es la cantidad de energía suministrada por la planta 1 (Parque eólico) a la empresa 2 (Amazón) en el primer cuatrimestre.\n",
        "    \n",
        "- $ V_{it} $: Cantidad de energía vendida directamente desde la planta $ i $ en el período $ t $.\n",
        "  - **Ejemplo**: $ V_{12} $ es la cantidad de energía vendida por la planta 1 (Parque Eólico) en el segundo cuatrimestre.\n",
        "\n",
        "- $ A_{it} $: Cantidad de energía almacenada en la planta $ i $ en el período $ t $.\n",
        "  - **Ejemplo**: $ A_{22} $ es la cantidad de energía almacenada en la planta 2 (Planta Solar) en el segundo cuatrimestre.\n",
        "\n",
        "\n",
        "\n",
        "*Subíndices*:\n",
        "- Cada subíndice tiene el siguiente significado:\n",
        "  - $ i $: Indica la planta de origen (1 = Parque Eólico, 2 = Planta Solar).\n",
        "  - $ j $: Indica la empresa (1 = Mercadona, 2 = Amazon, 3 = Telefónica).\n",
        "  - $ t $: Indica el período o cuatrimestre (1, 2, o 3).\n",
        "\n",
        "**Restricciones del Modelo**\n",
        "\n",
        "*Período 1*\n",
        "\n",
        "1. **Oferta total de las plantas:**\n",
        "   - **Planta 1 (Parque Eólico):**\n",
        "     $$\n",
        "     X_{111} + X_{121} + X_{131} + V_{11} = 15\n",
        "     $$\n",
        "   - **Planta 2 (Planta Solar):**\n",
        "     $$\n",
        "     X_{211} + X_{221} + X_{231} + V_{21} = 25\n",
        "     $$\n",
        "\n",
        "2. **Límite de ventas directas:**\n",
        "   - La suma de la energía vendida desde ambas plantas debe ser igual a 5 MWh (en este periodo no es preciso almacenar para ocasiones futuras,entonces el excendete se vende):\n",
        "    $$\n",
        "     V_{11} + V_{21} = 5\n",
        "    $$\n",
        "\n",
        "3. **Cobertura de demanda de las empresas:**\n",
        "   - **Mercadona (Empresa 1):**\n",
        "     $$\n",
        "     X_{111} + X_{211} = 10\n",
        "     $$\n",
        "   - **Amazon (Empresa 2):**\n",
        "     $$\n",
        "     X_{121} + X_{221} = 5\n",
        "     $$\n",
        "   - **Telefónica (Empresa 3):**\n",
        "     $$\n",
        "     X_{131} + X_{231} = 20\n",
        "     $$\n",
        "\n",
        "\n",
        "\n",
        " *Período 2*\n",
        "\n",
        "1. **Oferta total de las plantas:**\n",
        "   - **Planta 1 (Parque Eólico):**\n",
        "     $$\n",
        "     X_{112} + X_{122} + X_{132} + V_{12} + A_{12} = 15\n",
        "     $$\n",
        "   - **Planta 2 (Planta Solar):**\n",
        "     $$\n",
        "     X_{212} + X_{222} + X_{232} + V_{22} + A_{22} = 25\n",
        "     $$\n",
        "\n",
        "2. **Límite de ventas directas:**\n",
        "   - La suma de la energía vendida desde ambas plantas no debe superar los 5 MWh:\n",
        "     $$\n",
        "     V_{12} + V_{22} = 5\n",
        "     $$\n",
        "\n",
        "3. **Almacenamiento:**\n",
        "   - La suma de la energía almacenada en ambas plantas debe ser exactamente 5 MWh para garantizar el suministro en el siguiente período:\n",
        "     $$\n",
        "     A_{12} + A_{22} = 5\n",
        "     $$\n",
        "\n",
        "4. **Cobertura de demanda de las empresas:**\n",
        "   - **Mercadona (Empresa 1):**\n",
        "     $$\n",
        "     X_{112} + X_{212} = 10\n",
        "     $$\n",
        "   - **Amazon (Empresa 2):**\n",
        "     $$\n",
        "     X_{122} + X_{222} = 10\n",
        "     $$\n",
        "   - **Telefónica (Empresa 3):**\n",
        "     $$\n",
        "     X_{132} + X_{232} = 10\n",
        "     $$\n",
        "\n",
        "\n",
        "*Período 3*\n",
        "\n",
        "1. **Oferta total de las plantas:**\n",
        "   - **Planta 1 (Parque Eólico):**\n",
        "     $$\n",
        "     X_{113} + X_{123} + X_{133} = 10\n",
        "     $$\n",
        "   - **Planta 2 (Planta Solar):**\n",
        "     $$\n",
        "     X_{213} + X_{223} + X_{233} = 20\n",
        "     $$\n",
        "\n",
        "2. **Cobertura de demanda de las empresas:**\n",
        "   - **Mercadona (Empresa 1):**\n",
        "     $$\n",
        "     X_{113} + X_{213} \\leq 10\n",
        "     $$\n",
        "   - **Amazon (Empresa 2):**\n",
        "     $$\n",
        "     X_{123} + X_{223} \\leq 15\n",
        "     $$\n",
        "   - **Telefónica (Empresa 3):**\n",
        "     $$\n",
        "     X_{133} + X_{233} \\leq 20\n",
        "     $$\n",
        "\n",
        "\n",
        " **Función Objetivo**\n",
        "\n",
        "\n",
        "$$\n",
        "\\text{Minimizar: } Z =\n",
        "\\underbrace{\\big( 7 X_{111} + 9 X_{121} + 12 X_{131} + 10 X_{211} + 11 X_{221} + 16 X_{231} \\big)}_{\\text{Período 1: Costos de transporte}}\n",
        "$$\n",
        "$$\n",
        "+ \\underbrace{\\big( 7 X_{112} + 9 X_{122} + 12 X_{132} + 10 X_{212} + 11 X_{222} + 16 X_{232} + 3 A_{12} + 2 A_{22} \\big)}_{\\text{Período 2: Costes de transporte y almacenamiento}}\n",
        "$$\n",
        "$$\n",
        "+ \\underbrace{\\big( 7 X_{113} + 9 X_{123} + 12 X_{133} + 10 X_{213} + 11 X_{223} + 16 X_{233} \\big)}_{\\text{Período 3: Costes de transporte}}\n",
        "$$\n",
        "$$\n",
        "- \\underbrace{\\big( 5 V_{11} + 8 V_{21} \\big)}_{\\text{Período 1: Beneficio por ventas}}\n",
        "- \\underbrace{\\big( 5 V_{12} + 8 V_{22} \\big)}_{\\text{Período 2: Beneficio por ventas}}\n",
        "$$\n",
        "\n",
        "\n",
        "*Explicación*\n",
        "1. Período 1 (Transporte y ventas):\n",
        "   - Incluye los costes de transportar energía desde ambas plantas hacia las empresas.\n",
        "   - También incluye los beneficios por la venta directa de energía sobrante.\n",
        "\n",
        "2. **Período 2 (Transporte, almacenamiento y ventas):**\n",
        "   - Incluye los costes de transporte y los costos de almacenamiento de energía $A_{12}\\ y A_{22}$ para poder satisfacer la demanda en el siguiente periodo.\n",
        "   - También incluye los beneficios por la venta directa de energía desde ambas plantas.\n",
        "\n",
        "3. **Período 3 (Solo transporte):**\n",
        "   - Incluye únicamente los costes de transportar energía desde las plantas hacia las empresas. No hay almacenamiento ni ventas directas en este período.\n",
        "\n"
      ],
      "metadata": {
        "id": "oo20g-miJ_Y-"
      }
    },
    {
      "cell_type": "code",
      "source": [
        "modelo2 = ConcreteModel()\n",
        "\n",
        "modelo2.plantas = RangeSet(1, 2)  # Plantas (1 = Parque Eólico, 2 = Planta Solar)\n",
        "modelo2.empresas = RangeSet(1, 3)  # Empresas (1 = Mercadona, 2 = Amazon, 3 = Telefónica)\n",
        "modelo2.periodos = RangeSet(1, 3)  # Períodos (1, 2, 3)\n",
        "\n",
        "\n",
        "oferta = {\n",
        "    (1, 1): 15, (1, 2): 15, (1, 3): 10,\n",
        "    (2, 1): 25, (2, 2): 25, (2, 3): 20\n",
        "}\n",
        "\n",
        "#costes de envío\n",
        "costes_envio = {\n",
        "    (1, 1): 7, (1, 2): 9, (1, 3): 12,\n",
        "    (2, 1): 10, (2, 2): 11, (2, 3): 16\n",
        "}\n",
        "\n",
        "#costes de almacenamiento fijos\n",
        "costes_almacenamiento = {1: 3, 2: 2}\n",
        "# Beneficio por venta directa en cada planta\n",
        "beneficio_venta = {1: 5, 2: 8}\n",
        "\n",
        "#variables del modelo\n",
        "modelo2.X = Var(modelo2.plantas, modelo2.empresas, modelo2.periodos, within=NonNegativeReals)\n",
        "modelo2.V = Var(modelo2.plantas, modelo2.periodos, within=NonNegativeReals)\n",
        "modelo2.A = Var(modelo2.plantas, modelo2.periodos, within=NonNegativeReals)\n",
        "\n",
        "#f.objetivo\n",
        "def funcion_objetivo(modelo2):\n",
        "    return (\n",
        "        7 * modelo2.X[1, 1, 1] + 9 * modelo2.X[1, 2, 1] + 12 * modelo2.X[1, 3, 1] +\n",
        "        10 * modelo2.X[2, 1, 1] + 11 * modelo2.X[2, 2, 1] + 16 * modelo2.X[2, 3, 1] +\n",
        "        7 * modelo2.X[1, 1, 2] + 9 * modelo2.X[1, 2, 2] + 12 * modelo2.X[1, 3, 2] +\n",
        "        10 * modelo2.X[2, 1, 2] + 11 * modelo2.X[2, 2, 2] + 16 * modelo2.X[2, 3, 2] +\n",
        "        7 * modelo2.X[1, 1, 3] + 9 * modelo2.X[1, 2, 3] + 12 * modelo2.X[1, 3, 3] +\n",
        "        10 * modelo2.X[2, 1, 3] + 11 * modelo2.X[2, 2, 3] + 16 * modelo2.X[2, 3, 3] +\n",
        "        3 * modelo2.A[1, 2] + 2 * modelo2.A[2, 2] -5 * modelo2.V[1, 1] - 8 * modelo2.V[2, 1] -5 * modelo2.V[1, 2] - 8 * modelo2.V[2, 2]\n",
        "    )\n",
        "\n",
        "modelo2.obj = Objective(rule=funcion_objetivo, sense=minimize)\n",
        "\n",
        "#restricciones x período\n",
        "\n",
        "#Período 1\n",
        "modelo2.oferta1_planta1 = Constraint(expr=modelo2.X[1, 1, 1] + modelo2.X[1, 2, 1] + modelo2.X[1, 3, 1] + modelo2.V[1, 1] == 15)\n",
        "modelo2.oferta1_planta2 = Constraint(expr=modelo2.X[2, 1, 1] + modelo2.X[2, 2, 1] + modelo2.X[2, 3, 1] + modelo2.V[2, 1] == 25)\n",
        "modelo2.ventas1 = Constraint(expr=modelo2.V[1, 1] + modelo2.V[2, 1] == 5)\n",
        "\n",
        "\n",
        "modelo2.demanda1_empresa1 = Constraint(expr=modelo2.X[1, 1, 1] + modelo2.X[2, 1, 1] == 10)\n",
        "modelo2.demanda1_empresa2 = Constraint(expr=modelo2.X[1, 2, 1] + modelo2.X[2, 2, 1] == 5)\n",
        "modelo2.demanda1_empresa3 = Constraint(expr=modelo2.X[1, 3, 1] + modelo2.X[2, 3, 1] == 20)\n",
        "\n",
        "#Período 2\n",
        "modelo2.oferta2_planta1 = Constraint(expr=modelo2.X[1, 1, 2] + modelo2.X[1, 2, 2] + modelo2.X[1, 3, 2] + modelo2.V[1, 2] + modelo2.A[1, 2] == 15)\n",
        "modelo2.oferta2_planta2 = Constraint(expr=modelo2.X[2, 1, 2] + modelo2.X[2, 2, 2] + modelo2.X[2, 3, 2] + modelo2.V[2, 2] + modelo2.A[2, 2] == 25)\n",
        "modelo2.ventas2 = Constraint(expr=modelo2.V[1, 2] + modelo2.V[2, 2] == 5)\n",
        "modelo2.almacenamiento = Constraint(expr=modelo2.A[1, 2] + modelo2.A[2, 2] == 5)\n",
        "\n",
        "\n",
        "modelo2.demanda2_empresa1 = Constraint(expr=modelo2.X[1, 1, 2] + modelo2.X[2, 1, 2] == 10)\n",
        "modelo2.demanda2_empresa2 = Constraint(expr=modelo2.X[1, 2, 2] + modelo2.X[2, 2, 2] == 10)\n",
        "modelo2.demanda2_empresa3 = Constraint(expr=modelo2.X[1, 3, 2] + modelo2.X[2, 3, 2] == 10)\n",
        "\n",
        "#Período 3\n",
        "modelo2.oferta3_planta1 = Constraint(expr=modelo2.X[1, 1, 3] + modelo2.X[1, 2, 3] + modelo2.X[1, 3, 3] == 10)\n",
        "modelo2.oferta3_planta2 = Constraint(expr=modelo2.X[2, 1, 3] + modelo2.X[2, 2, 3] + modelo2.X[2, 3, 3] == 20)\n",
        "\n",
        "modelo2.demanda3_empresa1 = Constraint(expr=modelo2.X[1, 1, 3] + modelo2.X[2, 1, 3] <= 10)\n",
        "modelo2.demanda3_empresa2 = Constraint(expr=modelo2.X[1, 2, 3] + modelo2.X[2, 2, 3] <= 15)\n",
        "modelo2.demanda3_empresa3 = Constraint(expr=modelo2.X[1, 3, 3] + modelo2.X[2, 3, 3] <= 20)\n",
        "\n",
        "\n",
        "solver = SolverFactory('glpk')\n",
        "solver.solve(modelo2)\n",
        "\n",
        "print(\"Coste total(€):\", modelo2.obj())\n",
        "for v in modelo2.component_objects(Var, active=True):\n",
        "    print(f\"\\n{v.name}\")\n",
        "    for index in v:\n",
        "        print(f\"{index} = {v[index].value}\")"
      ],
      "metadata": {
        "id": "ydg7od7xQg9a"
      },
      "execution_count": null,
      "outputs": []
    },
    {
      "cell_type": "markdown",
      "source": [
        "## Resultados-PE"
      ],
      "metadata": {
        "id": "pW8HfgdTRJ83"
      }
    },
    {
      "cell_type": "markdown",
      "source": [
        "\n",
        "**Coste total**\n",
        "- El coste total mínimo logrado por el modelo es de 970€.\n",
        "\n",
        "**Distribución de energía por períodos**\n",
        "\n",
        "1. **Período 1**:\n",
        "   - El Parque Eólico suministra:\n",
        "     - 15 MWh a Telefónica\n",
        "   - La Planta Solar suministra:\n",
        "     - 10 MWh a Mercadona.\n",
        "     - 5 MWh a Amazon.\n",
        "     - 5 MWh a Telefónica.\n",
        "\n",
        "   Además, la planta solar vende directamente 5 MWh.\n",
        "\n",
        "2. **Período 2**:\n",
        "   - El Parque Eólico suministra:\n",
        "     - 5 MWh a Mercadona.\n",
        "     - 10 MWh a Telefónica.\n",
        "   - La Planta Solar (Planta 2)suministra:\n",
        "     - 5 MWh a Mercadona.\n",
        "     - 10 MWh a Amazon.\n",
        "\n",
        "   En este período, la planta solar vende directamente 5 MWh y almacena 5 MWh*para el siguiente período.\n",
        "3. Período 3:\n",
        "   - El Parque Eólico suministra:\n",
        "     - 5 MWh a Mercadona.\n",
        "     - 5 MWh a Telefónica.\n",
        "   - La Planta Solar  suministra:\n",
        "     - 5 MWh a Mercadona.\n",
        "     - 15 MWh a Amazon, utilizando la energía almacenada en el período anterior.\n",
        "\n",
        "\n",
        "\n",
        "Los resultados muestran cómo el modelo optimiza la distribución, almacenamiento y venta de energía para minimizar los costes totales. La estrategia de ventas directas y almacenamiento permite manejar eficientemente los excedentes y satisfacer la demanda de las empresas en cada período."
      ],
      "metadata": {
        "id": "l0YaNGqRTiOo"
      }
    },
    {
      "cell_type": "markdown",
      "source": [
        "## Referencias"
      ],
      "metadata": {
        "id": "mS0jccbVqMKD"
      }
    },
    {
      "cell_type": "markdown",
      "source": [
        "He empleado este libro para tomar ejemplo para plantear los modelos:"
      ],
      "metadata": {
        "id": "MJKQDTRRq1PR"
      }
    },
    {
      "cell_type": "markdown",
      "source": [
        "Thie, P. R., & Keough, G. E. *An introduction to linear programming and game theory* (3rd ed.). Wiley..\n"
      ],
      "metadata": {
        "id": "DoLv6_nQqOwS"
      }
    }
  ]
}